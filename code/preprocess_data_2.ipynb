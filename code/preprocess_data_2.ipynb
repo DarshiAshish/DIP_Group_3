{
  "nbformat": 4,
  "nbformat_minor": 0,
  "metadata": {
    "colab": {
      "provenance": []
    },
    "kernelspec": {
      "name": "python3",
      "display_name": "Python 3"
    },
    "language_info": {
      "name": "python"
    }
  },
  "cells": [
    {
      "cell_type": "code",
      "source": [
        "with open('/content/drive/My Drive/Colab Notebooks/DIP_proj/read_data.ipynb') as f:\n",
        "    notebook = nbformat.read(f, as_version=4)\n",
        "\n",
        "# Execute each cell\n",
        "for cell in notebook.cells:\n",
        "    if cell.cell_type == 'code':\n",
        "        exec(cell.source)"
      ],
      "metadata": {
        "id": "FICK7GWKEKav"
      },
      "execution_count": null,
      "outputs": []
    },
    {
      "cell_type": "code",
      "execution_count": null,
      "metadata": {
        "id": "GaAk-zTdBwWJ"
      },
      "outputs": [],
      "source": [
        "# from read_data import load_cifar10\n",
        "import numpy as np\n",
        "cifar_labels = [\n",
        "    'airplane', 'automobile', 'bird', 'cat',\n",
        "    'deer', 'dog', 'frog', 'horse', 'ship', 'truck'\n",
        "]\n",
        "\n",
        "# Define new categories\n",
        "category_mapping = {\n",
        "    'Roadways (land)': ['automobile', 'truck'],\n",
        "    'Vehicles (air and sea)': ['airplane', 'ship'],\n",
        "    'Birds': ['bird'],\n",
        "    'Domestic Animals': ['cat', 'dog'],\n",
        "    'Wild/Other Animals': ['deer', 'frog', 'horse']\n",
        "}\n",
        "\n",
        "train_data, test_data = load_cifar10()\n",
        "\n",
        "\n",
        "def create_federated_data_by_class(x_train, y_train):\n",
        "    label_to_category = {}\n",
        "    for category, labels in category_mapping.items():\n",
        "      for label in labels:\n",
        "        label_index = cifar_labels.index(label)\n",
        "        label_to_category[label_index] = category\n",
        "    return label_to_category\n",
        "\n",
        "label_to_category = create_federated_data_by_class(train_data[0], train_data[1])\n",
        "\n",
        "def split_data_by_category(x_data, y_data):\n",
        "    # Create a dictionary to hold the new categories\n",
        "    categorized_data = {category: [] for category in category_mapping.keys()}\n",
        "    categorized_labels = {category: [] for category in category_mapping.keys()}\n",
        "\n",
        "    for img, label in zip(x_data, y_data):\n",
        "        label_index = label[0]  # Assuming y_data is in shape (n, 1)\n",
        "        category = label_to_category.get(label_index)\n",
        "\n",
        "        if category:\n",
        "            categorized_data[category].append(img)\n",
        "            categorized_labels[category].append(label_index)\n",
        "\n",
        "    # Convert lists to numpy arrays for consistency\n",
        "    for category in categorized_data.keys():\n",
        "        categorized_data[category] = np.array(categorized_data[category])\n",
        "        categorized_labels[category] = np.array(categorized_labels[category])\n",
        "    cat_labels=[]\n",
        "    for each in categorized_labels:\n",
        "        cat_labels.append(list(categorized_labels[each]))\n",
        "    return categorized_data, cat_labels\n",
        "\n",
        "\n",
        "# split_x_train, split_y_train = split_data_by_category(train_data[0], train_data[1])\n",
        "# split_x_test, split_y_test = split_data_by_category(test_data[0], test_data[1])"
      ]
    }
  ]
}