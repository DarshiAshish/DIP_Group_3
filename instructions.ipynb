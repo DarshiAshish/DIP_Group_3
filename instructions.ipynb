{
  "nbformat": 4,
  "nbformat_minor": 0,
  "metadata": {
    "colab": {
      "provenance": []
    },
    "kernelspec": {
      "name": "python3",
      "display_name": "Python 3"
    },
    "language_info": {
      "name": "python"
    }
  },
  "cells": [
    {
      "cell_type": "code",
      "execution_count": 1,
      "metadata": {
        "colab": {
          "base_uri": "https://localhost:8080/"
        },
        "id": "hEsNuA9DVF83",
        "outputId": "491be88e-c4c3-47b9-a090-f22d441069b3"
      },
      "outputs": [
        {
          "output_type": "stream",
          "name": "stdout",
          "text": [
            "Cloning into 'DIP_Group_3'...\n",
            "remote: Enumerating objects: 152, done.\u001b[K\n",
            "remote: Counting objects: 100% (146/146), done.\u001b[K\n",
            "remote: Compressing objects: 100% (116/116), done.\u001b[K\n",
            "remote: Total 152 (delta 45), reused 81 (delta 20), pack-reused 6 (from 1)\u001b[K\n",
            "Receiving objects: 100% (152/152), 228.97 MiB | 14.74 MiB/s, done.\n",
            "Resolving deltas: 100% (45/45), done.\n",
            "Updating files: 100% (42/42), done.\n"
          ]
        }
      ],
      "source": [
        "!git clone https://github.com/DarshiAshish/DIP_Group_3.git"
      ]
    },
    {
      "cell_type": "code",
      "source": [
        "%cd DIP_Group_3"
      ],
      "metadata": {
        "colab": {
          "base_uri": "https://localhost:8080/"
        },
        "id": "ZeLOkqDqVH3s",
        "outputId": "b2fc6cb7-2b35-4720-bc80-72a6b90b8bc0"
      },
      "execution_count": 2,
      "outputs": [
        {
          "output_type": "stream",
          "name": "stdout",
          "text": [
            "/content/DIP_Group_3\n"
          ]
        }
      ]
    },
    {
      "cell_type": "code",
      "source": [
        "from google.colab import drive\n",
        "drive.mount('/content/drive')"
      ],
      "metadata": {
        "colab": {
          "base_uri": "https://localhost:8080/"
        },
        "id": "tITzcn0nViAU",
        "outputId": "f60f8a9d-6975-4ddc-a8bf-a8057b9e0359"
      },
      "execution_count": 3,
      "outputs": [
        {
          "output_type": "stream",
          "name": "stdout",
          "text": [
            "Mounted at /content/drive\n"
          ]
        }
      ]
    },
    {
      "cell_type": "code",
      "source": [
        "!cp -r \"/content/DIP_Group_3\" \"/content/drive/MyDrive/Colab Notebooks/DIP_Group_3\""
      ],
      "metadata": {
        "id": "qewKR0ZuVxW-"
      },
      "execution_count": 5,
      "outputs": []
    },
    {
      "cell_type": "code",
      "source": [
        "!mv \"/content/drive/MyDrive/Colab Notebooks/DIP_Group_3/DIP_proj\" \"/content/drive/MyDrive/Colab Notebooks\""
      ],
      "metadata": {
        "id": "vaadwfwuYhbS"
      },
      "execution_count": 6,
      "outputs": []
    },
    {
      "cell_type": "code",
      "source": [
        "!mv \"/content/drive/MyDrive/Colab Notebooks/DIP_Group_3/demo\" \"/content/drive/MyDrive/Colab Notebooks\"\n"
      ],
      "metadata": {
        "id": "F-chVliQYhXx"
      },
      "execution_count": 7,
      "outputs": []
    },
    {
      "cell_type": "code",
      "source": [
        "# !rm -rf /content/DIP_Group_3"
      ],
      "metadata": {
        "id": "oIJN2xG1V9Ku"
      },
      "execution_count": 6,
      "outputs": []
    }
  ]
}