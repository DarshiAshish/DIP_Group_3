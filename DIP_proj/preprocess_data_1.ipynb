{
  "nbformat": 4,
  "nbformat_minor": 0,
  "metadata": {
    "colab": {
      "provenance": []
    },
    "kernelspec": {
      "name": "python3",
      "display_name": "Python 3"
    },
    "language_info": {
      "name": "python"
    }
  },
  "cells": [
    {
      "cell_type": "code",
      "source": [
        "with open('/content/drive/My Drive/Colab Notebooks/DIP_proj/read_data.ipynb') as f:\n",
        "    notebook = nbformat.read(f, as_version=4)\n",
        "\n",
        "# Execute each cell\n",
        "for cell in notebook.cells:\n",
        "    if cell.cell_type == 'code':\n",
        "        exec(cell.source)"
      ],
      "metadata": {
        "id": "r71aQhhaEN11"
      },
      "execution_count": null,
      "outputs": []
    },
    {
      "cell_type": "code",
      "execution_count": null,
      "metadata": {
        "id": "xwS13wiaAn-B"
      },
      "outputs": [],
      "source": [
        "import numpy as np\n",
        "# from read_data import load_cifar10\n",
        "\n",
        "def create_random_federated_data(x_train, y_train, num_clients):\n",
        "    client_data = []\n",
        "    num_samples_per_client = len(x_train) // num_clients\n",
        "\n",
        "    for i in range(num_clients):\n",
        "        start_index = i * num_samples_per_client\n",
        "        end_index = start_index + num_samples_per_client\n",
        "        client_data.append((x_train[start_index:end_index], y_train[start_index:end_index]))\n",
        "\n",
        "    return client_data\n",
        "\n",
        "\n",
        "\n",
        "# federated_data = create_random_federated_data(train_data[0], train_data[1], num_clients)\n",
        "\n",
        "\n"
      ]
    }
  ]
}